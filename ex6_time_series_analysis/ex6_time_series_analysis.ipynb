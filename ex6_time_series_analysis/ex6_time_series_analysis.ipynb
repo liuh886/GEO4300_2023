{
 "cells": [
  {
   "cell_type": "markdown",
   "metadata": {},
   "source": [
    "# Ex 6: Time series analysis and stochastic modelling "
   ]
  },
  {
   "cell_type": "markdown",
   "metadata": {},
   "source": [
    "### Question 1: Time series analysis\n",
    "\n",
    "The annual mean discharge (Q) data in a station are given in the file *Qyearlymean.txt*."
   ]
  },
  {
   "cell_type": "code",
   "execution_count": null,
   "metadata": {},
   "outputs": [],
   "source": [
    "import pandas as pd\n",
    "import numpy  as np\n",
    "from scipy import stats\n",
    "import statsmodels.formula.api as smf\n",
    "%matplotlib inline\n",
    "\n",
    "data = pd.read_table('Qyearlymean.txt', usecols=[0,2])\n",
    "data.columns = ['y', 'q']"
   ]
  },
  {
   "cell_type": "markdown",
   "metadata": {},
   "source": [
    "**a)** Investigate if there is a significant trend in Q over the years using a linear regression method  for $\\alpha$ =10%. Remember to state your hypotheses, the values you get for the test statistic and rejection criterion, and your conclusion."
   ]
  },
  {
   "cell_type": "markdown",
   "metadata": {},
   "source": [
    "**b)** If the trend is significant, remove the trend from the data series. Plot your original time series and the linear trend (and the detrended time series if the trend was significant) together."
   ]
  },
  {
   "cell_type": "markdown",
   "metadata": {},
   "source": [
    "**c)** Plot the autocorrelation $\\rho_k$, first with 95% confidence limits, then with 99% confidence limits. Based on visual inspection of each of the two plots: up to which time lag is the $\\rho_k$ significant?\n",
    "*Hint: see pages 139-141 in the compendium*."
   ]
  },
  {
   "cell_type": "markdown",
   "metadata": {},
   "source": [
    "### Question 2: Stochastic models for stationary time series"
   ]
  },
  {
   "cell_type": "markdown",
   "metadata": {},
   "source": [
    "Fit the first order Markov model, AR(1), for annual data (after the removal of trend if there is any), using the procedure described in the Compendium p150-152 (but skip deleting the first 50 values due to short time series). Use the 1940’s value as initial value and simulate for the period 1940-1990. Note that the $\\varepsilon_t$ terms are  randomly drawn from a Normal distribution with mean 0 and standard deviation $\\sigma_\\varepsilon$ (use [numpy.random.normal](https://numpy.org/doc/stable/reference/random/generated/numpy.random.normal.html) to generate them)."
   ]
  },
  {
   "cell_type": "markdown",
   "metadata": {},
   "source": [
    "**a)** Fit AR(1) and compare the simulated time series with the observed time series (plot the two time series in the same graph; and calculate and compare the statistics of the two series, i.e. mean, standard deviation, $\\rho_1$ and $\\rho_2$). AR1 model:\n",
    "$$y_t = \\mu + \\beta\\left(y_{t-1} - \\mu\\right) + \\varepsilon_t$$"
   ]
  },
  {
   "cell_type": "markdown",
   "metadata": {},
   "source": [
    "**b)** Use the AR(1) model to simulate 5 samples each 1000-year long. Then calculate the statistics (average, standard deviation, $\\rho_1$, $\\rho_2$) from each simulated series, and compare them with the statistics calculated from the detrended data series. Comment on the differences/similarities between these results and results from a).\n",
    "\n",
    "**(optional)**  What happens to the statistics if you simulate longer samples (e.g. 1 million year long)? Look in particular at $\\rho_1$."
   ]
  }
 ],
 "metadata": {
  "anaconda-cloud": {},
  "kernelspec": {
   "display_name": "Python 3",
   "language": "python",
   "name": "python3"
  },
  "language_info": {
   "codemirror_mode": {
    "name": "ipython",
    "version": 3
   },
   "file_extension": ".py",
   "mimetype": "text/x-python",
   "name": "python",
   "nbconvert_exporter": "python",
   "pygments_lexer": "ipython3",
   "version": "3.10.7"
  }
 },
 "nbformat": 4,
 "nbformat_minor": 4
}
