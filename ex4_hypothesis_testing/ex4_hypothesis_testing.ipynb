{
 "cells": [
  {
   "cell_type": "markdown",
   "metadata": {},
   "source": [
    "# Ex 4: Hypothesis Testing"
   ]
  },
  {
   "cell_type": "markdown",
   "metadata": {},
   "source": [
    "## Background\n",
    "\n",
    "Hypothesis testing or significance testing is a method for testing a claim or hypothesis about a parameter in a population, using data measured in a sample. In this method, we test some hypothesis by determining the likelihood that a statistic value could have been sampled, if the hypothesis regarding the population parameter were true.\n",
    "\n",
    "**Reference material:** compendium from page 76.\n",
    "\n",
    "**Important:** For all questions, include in your answer these steps of hypothesis testing:\n",
    "1. State the null hypothesis $\\left(H_0\\right)$ and alternative hypothesis $\\left(H_a\\right)$\n",
    "2. State your assumptions and choice of test statistic\n",
    "3. State the rejection criterion\n",
    "4. Compute the test statistic\n",
    "5. Make a decision"
   ]
  },
  {
   "cell_type": "code",
   "execution_count": null,
   "metadata": {
    "vscode": {
     "languageId": "plaintext"
    }
   },
   "outputs": [],
   "source": [
    "%matplotlib inline\n",
    "import matplotlib.pyplot as plt\n",
    "import pandas as pd\n",
    "from scipy import stats as st\n",
    "data = pd.read_csv('radcliffe.csv', usecols=[0, 1], index_col=0, parse_dates=[0]).to_period().squeeze()"
   ]
  },
  {
   "cell_type": "markdown",
   "metadata": {},
   "source": [
    "## Question 1\n",
    "\n",
    "Consider the time series of annual total rainfalls (in mm) recorded since 1767, at the Radcliffe Meteorological Station, in Oxford, England (*radcliffe.csv*). Assume the normal distribution fitted to the sample data. For this exercise, assume that the available sample begins in the year 1950 and ends in 2014. Test the hypothesis that the population mean is 646 mm, at significance level $\\alpha=5\\,\\%$."
   ]
  },
  {
   "cell_type": "markdown",
   "metadata": {},
   "source": [
    "- $H_0$: $\\mu = 646$ mm\n",
    "- $H_1$: $\\mu \\neq 646$ mm\n",
    "- Variance unknown: use Student's $t$ distribution\n",
    "- $H_0$ is rejected with probability of wrongful rejection $\\alpha = 0.05$ ($\\alpha$ = significance level) if\n",
    "$$\\left| \\overline{x} - 646 \\right| > t_{1-\\frac{\\alpha}{2}} \\dfrac{s_x}{\\sqrt{n}} $$\n",
    "that is\n",
    "$$\\dfrac{\\left| \\overline{x} - 646 \\right|}{s_x}\\sqrt{n} > t_{1-\\frac{\\alpha}{2}, n-1}$$\n",
    "where $\\overline{x}$ and $s_x$ are the sample mean and standard deviation of the annual precipitation series $\\{x_i, i=1950,\\ldots,2014\\}$, $n$ is the sample size, and $t_{q, d}$ is the $q$ quantile of the Student's $t$ distribution with $d$ degrees of freedom"
   ]
  },
  {
   "cell_type": "markdown",
   "metadata": {},
   "source": [
    "## Question 2\n",
    "\n",
    "Solve question 1 again, but now assuming the population variance $\\sigma^2$ is known and equal to 13045.89 mm$^2$."
   ]
  },
  {
   "cell_type": "markdown",
   "metadata": {},
   "source": [
    "## Question 3\n",
    "\n",
    "Consider the Radcliffe rainfall record. Split the sample into two sub-samples: one, denoted by X, for the period 1767 to 1899, and the other, denoted by Y, from 1900 to 2014. Test the hypothesis, at $\\alpha=5\\,\\%$, that the mean annual rainfall depths for the two sub-samples do not differ significantly.\n",
    "\n",
    "- $H_0: \\mu_X = \\mu_Y$\n",
    "- $H_1: \\mu_X \\neq \\mu_Y$\n",
    "\n",
    "**Hint:** check pages 83-84 in the compendium for a relevant example."
   ]
  },
  {
   "cell_type": "markdown",
   "metadata": {},
   "source": [
    "## Question 4\n",
    "\n",
    "Consider again the Radcliffe rainfall record. Assume that the available sample begins in the year 1950 and ends in 2014. At $\\alpha=5\\,\\%$, test the null hypothesis that the population variance is 13000 mm$^2$ against the alternative that it is larger than 13000 mm$^2$."
   ]
  },
  {
   "cell_type": "markdown",
   "metadata": {},
   "source": [
    "- $H_0: \\sigma^2_X = \\sigma^2_0 = 13000$\n",
    "- $H_1: \\sigma_X > \\sigma^2_0$\n",
    "- $H_0$ rejected at significance level $\\alpha = 0.05$ if\n",
    "$$\\left(n-1\\right)\\dfrac{s^2_X}{\\sigma^2_0} > \\chi^2_{1-\\alpha, n-1}$$\n",
    "where $s^2_X$ is the sample variance of r.v. $X$"
   ]
  },
  {
   "cell_type": "markdown",
   "metadata": {},
   "source": [
    "## Question 5\n",
    "In a river station, the annual mean discharge and variance calculated from a 20 year sample data are 14.5 mm and 9.7 mm, respectively. Assume the annual discharge is normally distributed. Test the hypothesis that the population mean annual discharge is 16.4 mm $\\left(\\alpha=5\\,\\%\\right)$."
   ]
  },
  {
   "cell_type": "markdown",
   "metadata": {},
   "source": [
    "## Question 6\n",
    "As above, but test the hypothesis that the population mean annual discharge is 16.4 mm with an alternative hypothesis that the mean annual discharge is less than 16.4 mm."
   ]
  },
  {
   "cell_type": "markdown",
   "metadata": {},
   "source": [
    "## Question 7\n",
    "As above, but test the hypothesis that the population mean annual discharge is 16.4 mm with an alternative hypothesis that the mean annual discharge is larger than 16.4 mm."
   ]
  },
  {
   "cell_type": "markdown",
   "metadata": {},
   "source": [
    "## Question 8\n",
    "In Nassau on the Bahamas precipitation has been measured during two periods:\n",
    "- 1872 – 1890 (19 years): $\\overline{x} = 1346\\,\\textrm{mm}$, $s_x = 333\\,\\textrm{mm}$\n",
    "- 1896 – 1919 (24 years): $\\overline{y} = 1152\\,\\textrm{mm}$, $s_y = 262\\,\\textrm{mm}$\n",
    "\n",
    "where $\\overline{x}$ and $\\overline{y}$ are sample means, and $s_x$ and $s_y$ are sample standard deviations.\n",
    "\n",
    "*a) Is the difference between the mean values of the two periods significant? What are your assumptions?*"
   ]
  },
  {
   "cell_type": "markdown",
   "metadata": {},
   "source": [
    "*b) Is the difference between the variances of the two periods significant? What are your assumptions?*"
   ]
  }
 ],
 "metadata": {
  "anaconda-cloud": {},
  "kernelspec": {
   "display_name": "Python 3",
   "language": "python",
   "name": "python3"
  },
  "language_info": {
   "codemirror_mode": {
    "name": "ipython",
    "version": 3
   },
   "file_extension": ".py",
   "mimetype": "text/x-python",
   "name": "python",
   "nbconvert_exporter": "python",
   "pygments_lexer": "ipython3",
   "version": "3.9.7"
  }
 },
 "nbformat": 4,
 "nbformat_minor": 4
}
