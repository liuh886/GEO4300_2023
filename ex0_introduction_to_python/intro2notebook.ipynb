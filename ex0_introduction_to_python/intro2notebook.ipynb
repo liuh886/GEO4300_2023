{
 "cells": [
  {
   "cell_type": "markdown",
   "metadata": {},
   "source": [
    "# Introduction to Python with Jupyter Notebook\n",
    "\n",
    "We will use jupyter notebook for all exercises in GEO4300. To make sure all of you know how to work with python in jupyter notebook, you will in the following solve a few short exercises that you submit in Canvas. If you are stuck, ask the internet, your class mate or us teaching assistants (Zhihao, zhihaol@uio.no).\n",
    "\n",
    "Today you will learn:\n",
    "\n",
    "- How to use Jupyter notebook to finish the assignment and export the results.\n",
    "- Data Input/Output.\n",
    "- Plot the figures."
   ]
  },
  {
   "cell_type": "markdown",
   "metadata": {},
   "source": [
    "## 1. Short intro\n",
    "\n",
    "### 1.1 Jupyter notebook\n",
    "\n",
    "- Jupyter notebook with IPython is used to make documents that can include text, formulas, live python code, ouputs and figures. \n",
    "\n",
    "\n",
    "- A document usually contain two types of cells: Markdown and Code. \n",
    "    - This is a Markdown cell, and if you double click on it, you can edit it. Here you can write text using Markdown syntax (https://www.markdownguide.org/basic-syntax/) and formulas using LaTeX syntax (link to coverter: https://www.codecogs.com/latex/eqneditor.php). \n",
    "    - Code cells have \"In [ ]:\" on the left side and are used to write Python code. \n",
    "\n",
    "\n",
    "- To run a cell, press \"Ctrl\"+\"Enter\" (it will execute and stay on the same cell) or \"Shift\"+\"Enter\" (it will move to the next cell after execution). For other shortcuts, see **Help --> Keyboard Shortcuts** in the menu above.\n",
    "\n",
    "\n",
    "### 1.2 Before you submit\n",
    "\n",
    "- Click **File --> Rename** to change the file name.\n",
    "- When you are finished with a notebook document, on the menu click on **Kernel --> Restart & Run All**. If everything works you are ready to submit. \n",
    "\n",
    "\n",
    "### 1.3 How to submit\n",
    "\n",
    "- Click **File --> Download as --> HTML (.html)**\n",
    "- Make sure the .html file looks OK and shows all your output.\n",
    "- Upload both the .html and .ipynb file to the submission in Canvas.\n",
    "- If you have made new files that you read or use in the ipynb file, upload them as well (so I am able to run the ipynb file on my computer). You can also submit a compressed .zip file."
   ]
  },
  {
   "cell_type": "markdown",
   "metadata": {},
   "source": [
    "## Intro Exercise (not mandatory)\n",
    "The file \"intro2notebook_data.xls\" contains two time series of daily discharge (streamflow), one for Risa and one for Vikka. The unit is m$^3$/s. Below is some python code that reads this file and plot the time series. Do the following:\n",
    "\n",
    "a) Run the code below. Make sure the excel-file is in the same folder as this notebook.\n",
    "\n",
    "b) Compute the mean, median and standard deviation for each time series.\n",
    "\n",
    "c) Why is the median dicharge smaller than the mean?\n",
    "\n",
    "d) Extra challenge: Make a new code cell. Read and plot the water temperature time series in the file \"Finse_water_temperature.csv\".\n",
    "    \n",
    "    Hint: If you have trouble reading the data correctly, search for the pandas library function that reads data from csv files. Look in particular for the function arguments (options) that help format the data. Documentation pages on pandas.pydata.org give the full list of options.\n",
    "\n",
    "e) Save the notebook where all your results and plots are shown as a html and upload both the .html and .ipynb file in the Canvas submission folder."
   ]
  },
  {
   "cell_type": "code",
   "execution_count": 1,
   "metadata": {},
   "outputs": [],
   "source": [
    "# a) import the tools we need:\n",
    "import numpy as np #library used to work with scientific computing and arrays\n",
    "import pandas as pd #library used to work with scientific computing and tables (data frames)\n",
    "import matplotlib.pyplot as plt #include functions to make nice plots\n",
    "%matplotlib inline\n",
    "#previous line states how to show the figure output. If want to navigate in figure, write instead: %matplotlib notebook"
   ]
  },
  {
   "cell_type": "code",
   "execution_count": null,
   "metadata": {},
   "outputs": [],
   "source": [
    "# a) read the data we need using pandas. We specify that the first column is the index and should be interpreted as dates:\n",
    "data = pd.read_excel(\"intro2notebook_data.xls\",index_col = 0, parse_dates = True)\n",
    "data.head() #show the first five rows. For last five rows write: data.tail()"
   ]
  },
  {
   "cell_type": "code",
   "execution_count": null,
   "metadata": {},
   "outputs": [],
   "source": [
    "# a) plot the data time series and add labels and title:\n",
    "data.plot()\n",
    "plt.xlabel(\"Time\")\n",
    "plt.ylabel(\"Discharge [m$^3$/s]\")\n",
    "plt.title(\"Daily Discharge\"); #semicolon in last line is to avoid printing the line"
   ]
  },
  {
   "cell_type": "code",
   "execution_count": null,
   "metadata": {},
   "outputs": [],
   "source": [
    "# a) plot the data histograms and add labels and title:\n",
    "risa = data[\"Risa [m3/s]\"]\n",
    "vikka = data[\"Vikka [m3/s]\"]\n",
    "plt.hist(risa,label = \"Risa\")\n",
    "plt.hist(vikka, label = \"Vikka\")\n",
    "plt.legend()\n",
    "plt.xlabel(\"Discharge [m$^3$/s]\")\n",
    "plt.ylabel(\"Frequency\")\n",
    "plt.title(\"Histogram\");"
   ]
  },
  {
   "cell_type": "code",
   "execution_count": null,
   "metadata": {},
   "outputs": [],
   "source": [
    "# b) Compute and print mean, median and standard deviation here:\n",
    "\n",
    "#Example of different ways to compute and print the mean (understand what is happening at each line):\n",
    "print(\"Mean discharge [m3/s] computed by pandas:\\n\",data.mean(),\"\\n\")  #mean of both Risa and Vikka using pandas\n",
    "print(\"Mean discharge [m3/s] computed by numpy:\\n\",np.mean(data),\"\\n\") #mean of both Risa and Vikka using numpy\n",
    "print(\"Risa mean discharge is %.3f [m3/s].\"%risa.mean(),\"\\n\")     #mean of Risa using pandas (remember how we defined risa  above)\n",
    "print(\"Vikka mean discharge is %.3f [m3/s].\"%np.mean(vikka),\"\\n\") #mean of Vikka using numpy (remember how we defined vikka above)\n",
    "\n",
    "#Now compute and print also the median and standard deviation:"
   ]
  },
  {
   "cell_type": "markdown",
   "metadata": {},
   "source": [
    "#### c) Write why the median is smaller than the mean here (double click first):"
   ]
  },
  {
   "cell_type": "markdown",
   "metadata": {},
   "source": [
    "#### d) Extra challenge: Make a new code cell. Read and plot the water temperature time series in the file \"Finse_water_temperature.csv\"."
   ]
  }
 ],
 "metadata": {
  "kernelspec": {
   "display_name": "Python 3",
   "language": "python",
   "name": "python3"
  },
  "language_info": {
   "codemirror_mode": {
    "name": "ipython",
    "version": 3
   },
   "file_extension": ".py",
   "mimetype": "text/x-python",
   "name": "python",
   "nbconvert_exporter": "python",
   "pygments_lexer": "ipython3",
   "version": "3.6.2"
  }
 },
 "nbformat": 4,
 "nbformat_minor": 4
}
