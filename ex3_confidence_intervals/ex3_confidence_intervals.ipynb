{
 "cells": [
  {
   "cell_type": "markdown",
   "metadata": {},
   "source": [
    "# Ex 3: Confidence intervals"
   ]
  },
  {
   "cell_type": "markdown",
   "metadata": {},
   "source": [
    "### Background\n",
    "\n",
    "A confidence interval presents a range of possible values within which, with some certainty, we can find the statistical measure of the population. A confidence interval is defined by its margins of error. The narrower the margins of an interval are, the higher is the estimate accuracy. For example, the 95% confidence interval for the mean is the interval in which, given that all our assumptions about the data are fulfilled, there is 95% probability that the true value of the mean is located.\n",
    "\n",
    "The confidence interval for the mean at confidence level $c$ is defined as\n",
    "$$\\Pr\\left[L\\left({\\bf x},\\alpha,k_{\\sigma}\\right) \\leqslant \\mu \\leqslant U\\left({\\bf x},\\alpha,k_{\\sigma}\\right)\\right] = c$$\n",
    "where $U$ and $L$ are the upper and lower limits of the confidence interval, $\\mu$ is the true value of the mean, $\\bf x$ is the array of samples, $\\alpha = 1 - c$ is the significance level, and $k_{\\sigma}$ is a boolean variable (true/false) telling whether the true variance of the population $\\left(\\sigma^2\\right)$ is known. Note that the true values of mean and variance are not the same as the sample mean and variance, which can be computed from data.\n",
    "\n",
    "**Hints:**\n",
    " - Look at Chapter 6 in the compendium to find confidence interval formulas\n",
    " - Normal distribution: To find the quantiles $z_{1-\\alpha/2}$ you can use scipy.stats.norm.ppf()\n",
    " - $t$-distribution: To find the quantiles $t_{1-\\alpha/2,df}$, where $df$ is degrees of freedom, you can use scipy.stats.t.ppf()\n",
    " - Chi-square distribution: To find the quantiles $\\chi^2_{\\alpha/2,df}$ and $\\chi^2_{1-\\alpha/2,df}$ you can use scipy.stats.chi2.ppf()"
   ]
  },
  {
   "cell_type": "code",
   "execution_count": null,
   "metadata": {},
   "outputs": [],
   "source": [
    "# Import packages\n",
    "import pylab as pl\n",
    "from scipy import stats as st\n",
    "import pandas as pd\n",
    "%matplotlib inline"
   ]
  },
  {
   "cell_type": "markdown",
   "metadata": {},
   "source": [
    "### Question 1\n",
    "A sample of 10 random observations *that can be assumed normally distributed* gave a mean of 145 and a variance of 30. What is the 95 % confidence interval for the mean:\n",
    "\n",
    "**a)** if the estimated variance is 30\n",
    "\n",
    "**b)** if the true variance is 30\n",
    "\n",
    "**c)** if  a) and b) are different, what is the reason?\n",
    "    \n",
    "**d)** 90 % confidence interval for the variance"
   ]
  },
  {
   "cell_type": "markdown",
   "metadata": {},
   "source": [
    "### Question 2\n",
    "\n",
    "**a)** A hydrologist wants to determine the mean groundwater depth for a research site. Previous studies show that the mean depth is around 40 meters and standard deviation is 10 meters. She wants to test if this is correct. How many samples should she take in order to be 95%- sure that the estimated mean groundwater depth will not differ more than 5 meters. The standard deviation is assumed correct.\n",
    "\n",
    "$$\\Delta_h = \\dfrac{\\sigma}{\\sqrt{n}}\\Phi^{-1}\\left(1 - \\dfrac{\\alpha}{2}\\right) \\leqslant 5$$\n",
    "$$n \\geqslant \\left(\\dfrac{\\sigma}{5}\\Phi^{-1}\\left(1 - \\dfrac{\\alpha}{2}\\right)\\right)^2$$\n",
    "\n",
    "**b)** A candidate running for president wants to know how many percent of all people will vote \n",
    "for him? He knows (hopes) that he will get around 40% percent and he is satisfied if the error \n",
    "in the estimation is less than 5%-units with a probability of 0.95. How many people must be \n",
    "included in the test poll? *Hint: see the compendium p. 70 (\"Confidence intervals for proportions/probabilities\").*\n",
    "\n",
    "With $p=0.4$, $\\alpha = 0.05$:\n",
    "$$\\Delta_p = \\Phi^{-1}\\left(1 - \\dfrac{\\alpha}{2}\\right) \\sqrt{\\dfrac{p\\left(1-p\\right)}{n}} \\leqslant 0.05$$\n",
    "$$n \\geqslant p\\left(1-p\\right) \\left(\\dfrac{\\Phi^{-1}\\left(1 - \\dfrac{\\alpha}{2}\\right)}{0.05}\\right)^2$$"
   ]
  },
  {
   "cell_type": "markdown",
   "metadata": {},
   "source": [
    "### Question 3\n",
    "\n",
    "A machine is set up such that the average NaCl content per bottle equals µ. A sample of 100 bottles yields an average content of 48 mg. Calculate a 90% and a 95% confidence interval for the average content. Assume that the population standard deviation σ = 5mg"
   ]
  },
  {
   "cell_type": "markdown",
   "metadata": {},
   "source": [
    "### Question 4\n",
    "\n",
    "What sample size is required to estimate the average contents to within 0.5mg (i.e. +/– 0.5mg) at the 99% confidence level? Assume that the population standard deviation, σ = 5mg. "
   ]
  },
  {
   "cell_type": "markdown",
   "metadata": {},
   "source": [
    "### Question 5\n",
    "\n",
    "Data provided (*manning_coefficient.csv*) refer to the Manning coefficients for plastic tubes, determined experimentally by Haan (1965). Assume this sample has been drawn from a normal population $N(\\mu,\\sigma^2)$ and that the true variance is known and equal to the value estimated from the sample. Construct a 95 % confidence interval for the mean.\n",
    "\n",
    "**Hint:** Define a function that computes the confidence interval for the mean (think about which input arguments are needed) $-$ you may find it useful for answering Question 7."
   ]
  },
  {
   "cell_type": "markdown",
   "metadata": {},
   "source": [
    "### Question 6\n",
    "Now, use the same data as in question 5, but assume we do not know the true variance. Compute and comment on how that affects the 95 % confidence interval for the mean. Also, compute a 95 % confidence interval for the variance."
   ]
  },
  {
   "cell_type": "markdown",
   "metadata": {},
   "source": [
    "### Question 7\n",
    "\n",
    "**a)** Using the same data as in question 5 and assuming unknown variance, plot how changing the significance level affects the confidence interval (C.I.) for the mean. In the plot, include the sample average, and lower and upper C.I. limit for the different significance levels. Comment on the result. "
   ]
  },
  {
   "cell_type": "markdown",
   "metadata": {},
   "source": [
    "**b)** Do the same, but assuming the true variance is known, and plot it together with the results in a). Comment on the differences."
   ]
  }
 ],
 "metadata": {
  "anaconda-cloud": {},
  "kernelspec": {
   "display_name": "Python 3",
   "language": "python",
   "name": "python3"
  },
  "language_info": {
   "codemirror_mode": {
    "name": "ipython",
    "version": 3
   },
   "file_extension": ".py",
   "mimetype": "text/x-python",
   "name": "python",
   "nbconvert_exporter": "python",
   "pygments_lexer": "ipython3",
   "version": "3.10.6"
  }
 },
 "nbformat": 4,
 "nbformat_minor": 4
}
