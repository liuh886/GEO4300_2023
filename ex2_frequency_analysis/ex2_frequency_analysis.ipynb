{
 "cells": [
  {
   "cell_type": "markdown",
   "metadata": {},
   "source": [
    "# Ex 2: Frequency Analysis"
   ]
  },
  {
   "cell_type": "markdown",
   "metadata": {},
   "source": [
    "## Background\n",
    "    \n",
    "Frequency analysis of hydrologic variables, broadly defined as the quantification of the expected number of occurrences of an event of a given magnitude, is perhaps the earliest and most frequent application of probability and statistics in the field of water resources engineering. In brief, the methods of frequency analysis, as applied to maxima, aim to estimate the probability with which a random variable will be equal to or greater than a given quantile, from a sample of observed data. Frequency analysis of minima is similar, but non-exceedance probabilities are of concern. If only data recorded at a single streamflow (or rainfall) gauging station are available, an at-site frequency analysis is being carried out. Otherwise, if other observations of the variable, as recorded at distinct gauging stations within a specified region, are jointly employed for statistical inference, then the frequency analysis is said to be regional.\n",
    "\n",
    "In short: a \"100-year flood\" refers to a flood magnitude that statistically has a 1/100 = 0.01 = 1% probability of being equaled or exceeded in any given year. Generally, the probability of a \"T-year flood\" to be equaled or exceeded in any given year is 1/T."
   ]
  },
  {
   "cell_type": "code",
   "execution_count": null,
   "metadata": {},
   "outputs": [],
   "source": [
    "import pandas as pd\n",
    "import numpy as np\n",
    "import matplotlib.pyplot as plt\n",
    "import scipy.stats as st\n",
    "%matplotlib inline"
   ]
  },
  {
   "cell_type": "markdown",
   "metadata": {},
   "source": [
    "## Question 1:\n",
    "\n",
    "Vägverket (the Swedish Road Administration) plans to build a new bridge and they ask you to provide some information about the frequency and magnitude of the discharges in the river. Of course, you are a very careful consultant, so you are going to apply different statistical methods. Yearly peak flows can be found in the file **Qyearly.dat.**"
   ]
  },
  {
   "cell_type": "markdown",
   "metadata": {},
   "source": [
    "### Calculate the magnitude of a 100-year flood by using \n",
    "#### A. Graphic method:\n",
    "\n",
    "- Compute the empirical probability for a certain flow to be exceeded $\\Pr\\left[X>x_m\\right]$ using the Weibull equation\n",
    "\n",
    "    $\\Pr\\left[X > x_m \\right] = \\dfrac{m}{N+1}$\n",
    "\n",
    "    where $m$ is the rank number of $x_m$ after $\\left\\{\\left.x_i\\right|i=1,\\ldots,N\\right\\}$ have been sorted in descending order, and $N$ is the number of years.\n",
    "\n",
    "- plot both $\\Pr\\left[X>x_m\\right]$ and $\\Pr\\left[X<x_m\\right]$ against $x_m$, naming the axes properly.\n",
    "\n",
    "- You want to read the $Q_{T = 100}$ (i.e. the hundred-year-flood) from the plot. What is the problem? Would it help to have a larger number of observations (why/why not)?\n",
    "\n",
    "\n",
    "Hint:\n",
    "\n",
    "Construct a table similar to the one below and complete the table to answer the questions:  \n",
    "\n",
    "Year|Q(m³/s)|Sorted|Rank |Weibull probability|\n",
    "--- |---   |---|---|--\n",
    "1924| 99.1 |.. |.. |..\n",
    "1925|79.2  |.. |.. |..\n",
    "    \n",
    "\n",
    "1) Read the table by using `pd.read_table('Qyearly.dat')`\n",
    "\n",
    "2) Sort the discharge by using the method `pd.DataFrame.sort_values()`\n",
    "\n",
    "3) Assign the rank by using the `np.arange(1, 38)` that means generating an array of integer values from 1 to 37. You can store the ranks as a new column called `\"rank\"` to dataframe `df`, by writing `df[\"rank\"]=np.arange(1,38,1)`"
   ]
  },
  {
   "cell_type": "code",
   "execution_count": null,
   "metadata": {},
   "outputs": [],
   "source": []
  },
  {
   "cell_type": "markdown",
   "metadata": {},
   "source": [
    "#### B. Analytical methods assuming the yearly peak flow follows the\n",
    "\n",
    "1. Normal distribution\n",
    "2. Log-normal distribution\n",
    "3. Extreme-value type I (Gumbel) distribution\n",
    "4. Pearson III distribution\n",
    "5. Log-Pearson III distribution\n",
    "\n",
    "Use the frequency factor method (see pages 60-64 in the [compendium](https://uio.instructure.com/files/1872501/download?download_frd=1) you find in Canvas --> Files --> \"Statistical and Stochastic Methods in Hydrology\"):\n",
    "\n",
    "$$Q_T = \\overline{Q} + K_T \\cdot S_Q$$\n",
    "\n",
    "where $\\overline{Q}$ and $S_Q$ are the sample mean and standard deviation of $Q$. Note that\n",
    "- $K_T$ for the Normal and Pearson distributions can be obtained from tables (after page 156 in the compendium).\n",
    "- For the Normal distribution you can also use the *ppf* method/function of [scipy.stats.norm](https://docs.scipy.org/doc/scipy/reference/generated/scipy.stats.norm.html) to compute the quantile corresponding to a given cumulated density value and mean and standard deviation parameters (the *ppf* function is the inverse of the cumulative density function *cdf*).\n",
    "- For the Lognormal and Log-Pearson distributions you can follow the steps in sections 6.2 and 6.3 of the compendium.\n",
    "- For the Extreme value type I (Gumbel) distribution it is\n",
    "  $$ K_T = - \\frac{\\sqrt{6}}{\\pi } \\left \\{ 0.5772 + \\text{ln}\\left [ \\text{ln}\\left ( \\frac{T}{T-1} \\right ) \\right ] \\right \\}$$\n",
    "\n",
    "\n",
    "Hint:\n",
    "\n",
    "1) use `scipy.stats.norm.ppf(p)` for finding the table value of `z`. Where `p` is the probability.\n",
    "\n",
    "2) For converting the value to the logarithm, you can use `np.log(value)`. Note that `np.log` is natural or base-*e* logarithm, whereas `np.log10` is base-10 logarithm.\n",
    "\n",
    "3) Skewness can be calculated by `scipy.stats.skew(values)`."
   ]
  },
  {
   "cell_type": "code",
   "execution_count": null,
   "metadata": {},
   "outputs": [],
   "source": []
  },
  {
   "cell_type": "markdown",
   "metadata": {},
   "source": [
    "---\n",
    "\n",
    "### Question 2: \n",
    "Calculate the probability that the annual peak flood is larger than 85 m³/s for any given year. Assume that the annual maximum discharge follows a normal distribution (use mean and standard deviation from question 1)."
   ]
  },
  {
   "cell_type": "code",
   "execution_count": null,
   "metadata": {},
   "outputs": [],
   "source": []
  },
  {
   "cell_type": "markdown",
   "metadata": {},
   "source": [
    "---\n",
    "\n",
    "### Question 3: \n",
    "In order to be 90% sure that a design flood is not exceeded in a 50 year period (design life), what shall be the design return period?"
   ]
  },
  {
   "cell_type": "markdown",
   "metadata": {},
   "source": [
    "Let $p$ be the probability that the design flood occurs on any year, then $(1-p)^{50}=0.9$:"
   ]
  },
  {
   "cell_type": "code",
   "execution_count": null,
   "metadata": {},
   "outputs": [],
   "source": []
  },
  {
   "cell_type": "markdown",
   "metadata": {},
   "source": [
    "---\n",
    "\n",
    "### Question 4:\n",
    "Calculate the magnitude of the flow that with a probability of 0.95 is not exceeded in 5 years. Use a normal distribution with mean and standard deviation from question 1."
   ]
  },
  {
   "cell_type": "markdown",
   "metadata": {},
   "source": [
    "Hint:\n",
    "\n",
    "$F\\left(q\\right)^5 = 0.95$, then $q = F^{-1}\\left(\\sqrt[5]{0.95}\\right)$\n",
    "\n",
    "in Python nth root of x is x**(1/n)"
   ]
  },
  {
   "cell_type": "code",
   "execution_count": null,
   "metadata": {},
   "outputs": [],
   "source": []
  },
  {
   "cell_type": "markdown",
   "metadata": {},
   "source": [
    "---\n",
    "\n",
    "### Question 5: \n",
    "Define and explain the return period."
   ]
  },
  {
   "cell_type": "code",
   "execution_count": null,
   "metadata": {},
   "outputs": [],
   "source": []
  },
  {
   "cell_type": "markdown",
   "metadata": {},
   "source": [
    "---\n",
    "\n",
    "### Question 6: \n",
    "In a small brook, we have estimated that the discharge 5 m³/s corresponds to the flow that is exceeded with a return period of 20 years. What is the probability that this value is not exceeded five years in a row?"
   ]
  },
  {
   "cell_type": "code",
   "execution_count": null,
   "metadata": {},
   "outputs": [],
   "source": []
  },
  {
   "cell_type": "markdown",
   "metadata": {},
   "source": [
    "---\n",
    "\n",
    "### Question 7:\n",
    "For a different river, we assume that the discharge $Q_t$ (m$^3$/s) observed after a period of $t$ consecutive days without precipitation is approximately modelled by\n",
    "$$Q_t = 25 \\exp\\left(-\\dfrac{t}{20}\\right)$$\n",
    "where $t$ is a stochastic variable following the Gumbel cumulative distribution function\n",
    "$$F\\left(t\\right) = \\exp\\left(-\\exp\\left(-a\\left(t-u\\right)\\right)\\right)$$\n",
    "with parameters $u = 19$ and $a = 0.15$.\n",
    "\n",
    "What is the probability that $Q_t$ reaches a value lower than 10 m$^3$/s?"
   ]
  },
  {
   "cell_type": "code",
   "execution_count": null,
   "metadata": {},
   "outputs": [],
   "source": []
  }
 ],
 "metadata": {
  "anaconda-cloud": {},
  "kernelspec": {
   "display_name": "Python 3",
   "language": "python",
   "name": "python3"
  },
  "language_info": {
   "codemirror_mode": {
    "name": "ipython",
    "version": 3
   },
   "file_extension": ".py",
   "mimetype": "text/x-python",
   "name": "python",
   "nbconvert_exporter": "python",
   "pygments_lexer": "ipython3",
   "version": "3.9.7"
  }
 },
 "nbformat": 4,
 "nbformat_minor": 4
}
